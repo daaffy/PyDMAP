{
 "cells": [
  {
   "cell_type": "code",
   "execution_count": 17,
   "metadata": {},
   "outputs": [],
   "source": [
    "%reload_ext autoreload\n",
    "%autoreload 2\n"
   ]
  },
  {
   "cell_type": "code",
   "execution_count": 18,
   "metadata": {},
   "outputs": [],
   "source": [
    "\n",
    "import gc\n",
    "import sys\n",
    "sys.path.insert(0,\"./src\")\n",
    "\n",
    "import methods\n",
    "import glob\n",
    "import numpy as np\n",
    "import scipy\n",
    "import matplotlib.pyplot as plt\n",
    "# from math import hypot\n",
    "\n",
    "X_paths = glob.glob(\"/Users/jackh/Documents/2023/Turbulence Research/Data/trajs/*.csv\")\n",
    "\n",
    "traj = methods.Trajectory(X=X_paths,t=range(len(X_paths)))"
   ]
  },
  {
   "cell_type": "code",
   "execution_count": 2,
   "metadata": {},
   "outputs": [],
   "source": [
    "traj.n_t\n",
    "\n",
    "# x = np.array(range(10))\n",
    "\n",
    "# methods.dynamic_laplacian(traj)\n",
    "\n",
    "x1 = traj.Xat(0)\n",
    "# x2 = traj.Xat(0)\n",
    "\n",
    "eps = methods.nndist(x1[:100,:],k=7)\n",
    "\n",
    "kdtree = scipy.spatial.KDTree(x1)\n",
    "x = kdtree.sparse_distance_matrix(kdtree,eps/np.sqrt(2)).tocsr()\n",
    "\n",
    "\n",
    "# del x \n",
    "# gc.collect()\n",
    "\n",
    "# x1 = np.array([[1,2],[2,3]])\n",
    "# x2 = np.array([[1,2],[2,3]])\n",
    "\n",
    "# scipy.spatial.distance_matrix(x1[:3,:],x2[:3,:])\n",
    "\n",
    "# kdtree = scipy.spatial.KDTree(x1)\n",
    "# x = kdtree.sparse_distance_matrix(kdtree,1)\n"
   ]
  },
  {
   "cell_type": "code",
   "execution_count": 152,
   "metadata": {},
   "outputs": [
    {
     "data": {
      "text/plain": [
       "<44991x44991 sparse matrix of type '<class 'numpy.float64'>'\n",
       "\twith 289907 stored elements in Compressed Sparse Row format>"
      ]
     },
     "execution_count": 152,
     "metadata": {},
     "output_type": "execute_result"
    }
   ],
   "source": [
    "x"
   ]
  },
  {
   "cell_type": "code",
   "execution_count": 71,
   "metadata": {},
   "outputs": [
    {
     "data": {
      "text/plain": [
       "0"
      ]
     },
     "execution_count": 71,
     "metadata": {},
     "output_type": "execute_result"
    }
   ],
   "source": [
    "del x \n",
    "gc.collect()"
   ]
  },
  {
   "cell_type": "code",
   "execution_count": 151,
   "metadata": {},
   "outputs": [
    {
     "name": "stdout",
     "output_type": "stream",
     "text": [
      "[1.         0.82605705 0.82248711 ... 0.89921589 0.8470526  1.        ]\n"
     ]
    }
   ],
   "source": [
    "temp = x.data\n",
    "\n",
    "x.data = methods.iso_kernel(temp,0,eps)\n",
    "\n",
    "print(x.data)\n",
    "\n",
    "# np.sum(x,axis=0)"
   ]
  },
  {
   "cell_type": "code",
   "execution_count": null,
   "metadata": {},
   "outputs": [],
   "source": []
  },
  {
   "cell_type": "code",
   "execution_count": 30,
   "metadata": {},
   "outputs": [
    {
     "name": "stdout",
     "output_type": "stream",
     "text": [
      "[[0.         0.28812058]\n",
      " [0.         0.28601738]\n",
      " [0.         0.26934699]\n",
      " ...\n",
      " [0.         0.25514139]\n",
      " [0.         0.25123737]\n",
      " [0.         0.21482341]]\n"
     ]
    }
   ],
   "source": [
    "# sys.getsizeof(x)\n",
    "\n",
    "x1 = traj.Xat(0)\n",
    "kdtree = scipy.spatial.KDTree(x1)\n",
    "nearest_dist, _ = kdtree.query(x1, k=2)\n",
    "\n",
    "\n",
    "del kdtree\n",
    "gc.collect()\n",
    "\n",
    "print(nearest_dist)\n"
   ]
  },
  {
   "cell_type": "code",
   "execution_count": 51,
   "metadata": {},
   "outputs": [
    {
     "data": {
      "text/plain": [
       "0.3760907123126933"
      ]
     },
     "execution_count": 51,
     "metadata": {},
     "output_type": "execute_result"
    }
   ],
   "source": [
    "x1 = traj.Xat(0)\n",
    "methods.nndist(x1[:100,:],k=5)"
   ]
  },
  {
   "cell_type": "code",
   "execution_count": 162,
   "metadata": {},
   "outputs": [
    {
     "name": "stdout",
     "output_type": "stream",
     "text": [
      "Unexpected exception formatting exception. Falling back to standard exception\n"
     ]
    },
    {
     "name": "stderr",
     "output_type": "stream",
     "text": [
      "Traceback (most recent call last):\n",
      "  File \"/Users/jackh/opt/anaconda3/envs/gordon_original/lib/python3.11/site-packages/IPython/core/interactiveshell.py\", line 3508, in run_code\n",
      "    exec(code_obj, self.user_global_ns, self.user_ns)\n",
      "  File \"/var/folders/9v/f6c01sn97rb6v_y68jr4gcn80000gn/T/ipykernel_12511/1453643387.py\", line 1, in <module>\n",
      "    methods.dynamic_laplacian_sl(x1)\n",
      "  File \"/Users/jackh/Documents/2023/Turbulence Research/Code/./src/methods.py\", line 213, in dynamic_laplacian_sl\n",
      "    temp.data = iso_kernel(temp.data,0,eps)\n",
      "                           ^^^^^^^^^\n",
      "  File \"/Users/jackh/opt/anaconda3/envs/gordon_original/lib/python3.11/site-packages/scipy/sparse/_base.py\", line 771, in __getattr__\n",
      "    raise AttributeError(attr + \" not found\")\n",
      "AttributeError: data not found\n",
      "\n",
      "During handling of the above exception, another exception occurred:\n",
      "\n",
      "Traceback (most recent call last):\n",
      "  File \"/Users/jackh/opt/anaconda3/envs/gordon_original/lib/python3.11/site-packages/IPython/core/interactiveshell.py\", line 2105, in showtraceback\n",
      "    stb = self.InteractiveTB.structured_traceback(\n",
      "          ^^^^^^^^^^^^^^^^^^^^^^^^^^^^^^^^^^^^^^^^\n",
      "  File \"/Users/jackh/opt/anaconda3/envs/gordon_original/lib/python3.11/site-packages/IPython/core/ultratb.py\", line 1396, in structured_traceback\n",
      "    return FormattedTB.structured_traceback(\n",
      "           ^^^^^^^^^^^^^^^^^^^^^^^^^^^^^^^^^\n",
      "  File \"/Users/jackh/opt/anaconda3/envs/gordon_original/lib/python3.11/site-packages/IPython/core/ultratb.py\", line 1287, in structured_traceback\n",
      "    return VerboseTB.structured_traceback(\n",
      "           ^^^^^^^^^^^^^^^^^^^^^^^^^^^^^^^\n",
      "  File \"/Users/jackh/opt/anaconda3/envs/gordon_original/lib/python3.11/site-packages/IPython/core/ultratb.py\", line 1140, in structured_traceback\n",
      "    formatted_exception = self.format_exception_as_a_whole(etype, evalue, etb, number_of_lines_of_context,\n",
      "                          ^^^^^^^^^^^^^^^^^^^^^^^^^^^^^^^^^^^^^^^^^^^^^^^^^^^^^^^^^^^^^^^^^^^^^^^^^^^^^^^^\n",
      "  File \"/Users/jackh/opt/anaconda3/envs/gordon_original/lib/python3.11/site-packages/IPython/core/ultratb.py\", line 1055, in format_exception_as_a_whole\n",
      "    frames.append(self.format_record(record))\n",
      "                  ^^^^^^^^^^^^^^^^^^^^^^^^^^\n",
      "  File \"/Users/jackh/opt/anaconda3/envs/gordon_original/lib/python3.11/site-packages/IPython/core/ultratb.py\", line 955, in format_record\n",
      "    frame_info.lines, Colors, self.has_colors, lvals\n",
      "    ^^^^^^^^^^^^^^^^\n",
      "  File \"/Users/jackh/opt/anaconda3/envs/gordon_original/lib/python3.11/site-packages/IPython/core/ultratb.py\", line 778, in lines\n",
      "    return self._sd.lines\n",
      "           ^^^^^^^^^^^^^^\n",
      "  File \"/Users/jackh/opt/anaconda3/envs/gordon_original/lib/python3.11/site-packages/stack_data/utils.py\", line 145, in cached_property_wrapper\n",
      "    value = obj.__dict__[self.func.__name__] = self.func(obj)\n",
      "                                               ^^^^^^^^^^^^^^\n",
      "  File \"/Users/jackh/opt/anaconda3/envs/gordon_original/lib/python3.11/site-packages/stack_data/core.py\", line 698, in lines\n",
      "    pieces = self.included_pieces\n",
      "             ^^^^^^^^^^^^^^^^^^^^\n",
      "  File \"/Users/jackh/opt/anaconda3/envs/gordon_original/lib/python3.11/site-packages/stack_data/utils.py\", line 145, in cached_property_wrapper\n",
      "    value = obj.__dict__[self.func.__name__] = self.func(obj)\n",
      "                                               ^^^^^^^^^^^^^^\n",
      "  File \"/Users/jackh/opt/anaconda3/envs/gordon_original/lib/python3.11/site-packages/stack_data/core.py\", line 649, in included_pieces\n",
      "    pos = scope_pieces.index(self.executing_piece)\n",
      "                             ^^^^^^^^^^^^^^^^^^^^\n",
      "  File \"/Users/jackh/opt/anaconda3/envs/gordon_original/lib/python3.11/site-packages/stack_data/utils.py\", line 145, in cached_property_wrapper\n",
      "    value = obj.__dict__[self.func.__name__] = self.func(obj)\n",
      "                                               ^^^^^^^^^^^^^^\n",
      "  File \"/Users/jackh/opt/anaconda3/envs/gordon_original/lib/python3.11/site-packages/stack_data/core.py\", line 628, in executing_piece\n",
      "    return only(\n",
      "           ^^^^^\n",
      "  File \"/Users/jackh/opt/anaconda3/envs/gordon_original/lib/python3.11/site-packages/executing/executing.py\", line 164, in only\n",
      "    raise NotOneValueFound('Expected one value, found 0')\n",
      "executing.executing.NotOneValueFound: Expected one value, found 0\n"
     ]
    }
   ],
   "source": [
    "methods.dynamic_laplacian_sl(x1)"
   ]
  },
  {
   "cell_type": "code",
   "execution_count": 125,
   "metadata": {},
   "outputs": [
    {
     "data": {
      "text/plain": [
       "array([1.43762724e-108, 1.19075504e-107, 1.25158994e-109, 1.03207042e-107,\n",
       "       5.55624143e-107, 4.82997299e-106, 3.94311020e-110, 9.27584147e-109,\n",
       "       2.33624202e-107, 1.65410905e-106])"
      ]
     },
     "execution_count": 125,
     "metadata": {},
     "output_type": "execute_result"
    }
   ],
   "source": [
    "methods.iso_kernel(x1[0:10,:],0,eps)"
   ]
  },
  {
   "cell_type": "code",
   "execution_count": 161,
   "metadata": {},
   "outputs": [
    {
     "data": {
      "text/plain": [
       "array([1.        , 0.82605705, 0.82248711, ..., 0.89921589, 0.8470526 ,\n",
       "       1.        ])"
      ]
     },
     "execution_count": 161,
     "metadata": {},
     "output_type": "execute_result"
    }
   ],
   "source": [
    "x.data"
   ]
  },
  {
   "cell_type": "code",
   "execution_count": 16,
   "metadata": {},
   "outputs": [
    {
     "data": {
      "text/plain": [
       "matrix([[1.04198849],\n",
       "        [1.07602043],\n",
       "        [1.03573067],\n",
       "        ...,\n",
       "        [1.06959707],\n",
       "        [0.99599889],\n",
       "        [1.04407811]])"
      ]
     },
     "execution_count": 16,
     "metadata": {},
     "output_type": "execute_result"
    }
   ],
   "source": [
    "x1 = traj.Xat(0)\n",
    "\n",
    "X = x1\n",
    "\n",
    "alpha = 1\n",
    "eps = methods.nndist(X,k=7)\n",
    "n_s = np.shape(X)[0] # X is a square matrix\n",
    "\n",
    "kdtree = scipy.spatial.KDTree(X)\n",
    "temp = kdtree.sparse_distance_matrix(kdtree,eps).tocoo()\n",
    "temp.data = methods.iso_kernel(temp.data,0,eps)\n",
    "\n",
    "# q_bar = np.power((np.sum(temp, axis=1)/n_s),alpha)\n",
    "# temp.data = np.divide(temp.data,np.multiply(q_bar[temp.row], q_bar[temp.col]).T).A1\n",
    "# d_barsum = np.sum(temp, axis=0)/n_s\n",
    "# temp.data = np.divide(temp.data,d_barsum.A1[temp.col])\n",
    "\n",
    "q_bar = np.power((np.sum(temp, axis=1)),alpha)\n",
    "qq_bar = np.multiply(q_bar[temp.row], q_bar[temp.col]).A1\n",
    "temp.data = np.divide(temp.data, qq_bar)\n",
    "d_barsum = np.sum(temp, axis=1)\n",
    "temp.data = np.divide(temp.data,d_barsum[temp.col].T).A1\n",
    "\n",
    "np.sum(temp, axis=1)\n"
   ]
  },
  {
   "cell_type": "code",
   "execution_count": 11,
   "metadata": {},
   "outputs": [
    {
     "data": {
      "text/plain": [
       "array([1.38610992, 1.27678584, 0.89719282, ..., 0.84650774, 0.93018355,\n",
       "       0.99175021])"
      ]
     },
     "execution_count": 11,
     "metadata": {},
     "output_type": "execute_result"
    }
   ],
   "source": [
    "# q_bar\n",
    "d_barsum.T\n",
    "temp.data\n",
    "np.divide(temp.data,d_barsum[temp.col].T).A1\n",
    "# qq_bar\n",
    "\n"
   ]
  },
  {
   "cell_type": "code",
   "execution_count": 25,
   "metadata": {},
   "outputs": [
    {
     "name": "stdout",
     "output_type": "stream",
     "text": [
      "[    0     1     3 ... 44988 44989 44990]\n",
      "[    0     0     0 ... 44990 44990 44990]\n"
     ]
    },
    {
     "data": {
      "text/plain": [
       "matrix([[7.65979445e+15],\n",
       "        [8.34948181e+15],\n",
       "        [4.14630212e+15],\n",
       "        ...,\n",
       "        [7.51043587e+15],\n",
       "        [8.10409837e+15],\n",
       "        [7.41072912e+15]])"
      ]
     },
     "execution_count": 25,
     "metadata": {},
     "output_type": "execute_result"
    }
   ],
   "source": [
    "print(temp.row)\n",
    "print(temp.col)\n",
    "temp.data\n",
    "# q_bar[temp.row]\n",
    "# q_bar[temp.col].T\n",
    "np.divide(temp.data,np.multiply(q_bar[temp.row], q_bar[temp.col]).T).T\n",
    "# temp / (q_bar * q_bar.T)\n"
   ]
  },
  {
   "cell_type": "code",
   "execution_count": 30,
   "metadata": {},
   "outputs": [
    {
     "data": {
      "text/plain": [
       "0"
      ]
     },
     "execution_count": 30,
     "metadata": {},
     "output_type": "execute_result"
    }
   ],
   "source": [
    "del temp\n",
    "gc.collect()"
   ]
  },
  {
   "cell_type": "code",
   "execution_count": 183,
   "metadata": {},
   "outputs": [
    {
     "data": {
      "text/plain": [
       "matrix([[4.94024751e-10],\n",
       "        [4.94024751e-10],\n",
       "        [4.94024751e-10],\n",
       "        ...,\n",
       "        [4.94024751e-10],\n",
       "        [4.94024751e-10],\n",
       "        [1.63860664e-09]])"
      ]
     },
     "execution_count": 183,
     "metadata": {},
     "output_type": "execute_result"
    }
   ],
   "source": [
    "np.power((np.sum(temp,axis=1)/n_s),2)"
   ]
  },
  {
   "cell_type": "code",
   "execution_count": 19,
   "metadata": {},
   "outputs": [
    {
     "ename": "AxisError",
     "evalue": "axis 1 is out of bounds for array of dimension 1",
     "output_type": "error",
     "traceback": [
      "\u001b[0;31m---------------------------------------------------------------------------\u001b[0m",
      "\u001b[0;31mAxisError\u001b[0m                                 Traceback (most recent call last)",
      "\u001b[1;32m/Users/jackh/Documents/2023/Turbulence Research/Code/test.ipynb Cell 18\u001b[0m line \u001b[0;36m1\n\u001b[0;32m----> <a href='vscode-notebook-cell:/Users/jackh/Documents/2023/Turbulence%20Research/Code/test.ipynb#X23sZmlsZQ%3D%3D?line=0'>1</a>\u001b[0m methods\u001b[39m.\u001b[39mdynamic_laplacian_sl(x1)\n",
      "File \u001b[0;32m~/Documents/2023/Turbulence Research/Code/./src/methods.py:215\u001b[0m, in \u001b[0;36mdynamic_laplacian_sl\u001b[0;34m(X, eps, alpha, mode)\u001b[0m\n\u001b[1;32m    212\u001b[0m temp \u001b[39m=\u001b[39m kdtree\u001b[39m.\u001b[39msparse_distance_matrix(kdtree,\u001b[39m1\u001b[39m)\u001b[39m.\u001b[39mtocsr()\n\u001b[1;32m    213\u001b[0m temp\u001b[39m.\u001b[39mdata \u001b[39m=\u001b[39m iso_kernel(temp\u001b[39m.\u001b[39mdata,\u001b[39m0\u001b[39m,eps)\n\u001b[0;32m--> 215\u001b[0m q_bar \u001b[39m=\u001b[39m np\u001b[39m.\u001b[39mpower((np\u001b[39m.\u001b[39msum(temp, axis\u001b[39m=\u001b[39m\u001b[39m1\u001b[39m)),alpha)\n\u001b[1;32m    216\u001b[0m qq_bar \u001b[39m=\u001b[39m np\u001b[39m.\u001b[39mmultiply(q_bar[temp\u001b[39m.\u001b[39mrow], q_bar[temp\u001b[39m.\u001b[39mcol])\u001b[39m.\u001b[39mA1\n\u001b[1;32m    217\u001b[0m temp\u001b[39m.\u001b[39mdata \u001b[39m=\u001b[39m np\u001b[39m.\u001b[39mdivide(temp\u001b[39m.\u001b[39mdata, qq_bar)\n",
      "File \u001b[0;32m<__array_function__ internals>:180\u001b[0m, in \u001b[0;36msum\u001b[0;34m(*args, **kwargs)\u001b[0m\n",
      "File \u001b[0;32m~/opt/anaconda3/envs/gordon_original/lib/python3.11/site-packages/numpy/core/fromnumeric.py:2298\u001b[0m, in \u001b[0;36msum\u001b[0;34m(a, axis, dtype, out, keepdims, initial, where)\u001b[0m\n\u001b[1;32m   2295\u001b[0m         \u001b[39mreturn\u001b[39;00m out\n\u001b[1;32m   2296\u001b[0m     \u001b[39mreturn\u001b[39;00m res\n\u001b[0;32m-> 2298\u001b[0m \u001b[39mreturn\u001b[39;00m _wrapreduction(a, np\u001b[39m.\u001b[39madd, \u001b[39m'\u001b[39m\u001b[39msum\u001b[39m\u001b[39m'\u001b[39m, axis, dtype, out, keepdims\u001b[39m=\u001b[39mkeepdims,\n\u001b[1;32m   2299\u001b[0m                       initial\u001b[39m=\u001b[39minitial, where\u001b[39m=\u001b[39mwhere)\n",
      "File \u001b[0;32m~/opt/anaconda3/envs/gordon_original/lib/python3.11/site-packages/numpy/core/fromnumeric.py:86\u001b[0m, in \u001b[0;36m_wrapreduction\u001b[0;34m(obj, ufunc, method, axis, dtype, out, **kwargs)\u001b[0m\n\u001b[1;32m     83\u001b[0m         \u001b[39melse\u001b[39;00m:\n\u001b[1;32m     84\u001b[0m             \u001b[39mreturn\u001b[39;00m reduction(axis\u001b[39m=\u001b[39maxis, out\u001b[39m=\u001b[39mout, \u001b[39m*\u001b[39m\u001b[39m*\u001b[39mpasskwargs)\n\u001b[0;32m---> 86\u001b[0m \u001b[39mreturn\u001b[39;00m ufunc\u001b[39m.\u001b[39mreduce(obj, axis, dtype, out, \u001b[39m*\u001b[39m\u001b[39m*\u001b[39mpasskwargs)\n",
      "\u001b[0;31mAxisError\u001b[0m: axis 1 is out of bounds for array of dimension 1"
     ]
    }
   ],
   "source": [
    "methods.dynamic_laplacian_sl(x1)"
   ]
  }
 ],
 "metadata": {
  "kernelspec": {
   "display_name": "gordon_original",
   "language": "python",
   "name": "python3"
  },
  "language_info": {
   "codemirror_mode": {
    "name": "ipython",
    "version": 3
   },
   "file_extension": ".py",
   "mimetype": "text/x-python",
   "name": "python",
   "nbconvert_exporter": "python",
   "pygments_lexer": "ipython3",
   "version": "3.11.2"
  }
 },
 "nbformat": 4,
 "nbformat_minor": 2
}
